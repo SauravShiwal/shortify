{
  "cells": [
    {
      "cell_type": "code",
      "execution_count": null,
      "metadata": {
        "id": "VnckOnVUT6zu"
      },
      "outputs": [],
      "source": [
        ""
      ]
    },
    {
      "cell_type": "markdown",
      "metadata": {
        "id": "Swl3dk4bUDrz"
      },
      "source": [
        "# Project Review 1 Notebook\n",
        "This notebook assumes the data is either obtained locally or avaiable online in your drive. The `drive` variable decides the location of the data. If not avaiable locally  this will mount your google drive in the notebook's local drive. Keep in mind this requires this notebook to be running in Google Colab.\n",
        "\n",
        "If running locally(`drive = False`) then data must be present in `data` directory relative to the notebook. You can change the location accordingly in the notebook.\n"
      ]
    },
    {
      "cell_type": "code",
      "execution_count": null,
      "metadata": {
        "id": "MZ5MHC_eUC5V"
      },
      "outputs": [],
      "source": [
        ""
      ]
    },
    {
      "cell_type": "code",
      "execution_count": null,
      "metadata": {
        "id": "DQK037b0TloC"
      },
      "outputs": [],
      "source": [
        "drive = True\n",
        "data_location = None"
      ]
    },
    {
      "cell_type": "code",
      "execution_count": null,
      "metadata": {
        "id": "4wlAOfeQT5FU"
      },
      "outputs": [],
      "source": [
        ""
      ]
    },
    {
      "cell_type": "code",
      "execution_count": null,
      "metadata": {
        "colab": {
          "base_uri": "https://localhost:8080/"
        },
        "id": "7Yep61Pgf8cg",
        "outputId": "8ac8368e-9403-47e3-cc85-79a2ee505b72"
      },
      "outputs": [
        {
          "output_type": "stream",
          "name": "stdout",
          "text": [
            "Mounted at /content/drive\n"
          ]
        }
      ],
      "source": [
        "if drive:\n",
        "  from google.colab import drive\n",
        "  drive.mount('/content/drive')\n",
        "  data_location = '/content/drive/MyDrive/data'\n",
        "else:\n",
        "  data_location = 'data'"
      ]
    },
    {
      "cell_type": "code",
      "execution_count": null,
      "metadata": {
        "id": "b8uTTXd4axAC"
      },
      "outputs": [],
      "source": [
        "from tensorflow import keras"
      ]
    },
    {
      "cell_type": "code",
      "execution_count": null,
      "metadata": {
        "id": "BQLimtbtaxAF"
      },
      "outputs": [],
      "source": [
        "train_data_generator = keras.preprocessing.image.ImageDataGenerator(rotation_range=0.3 , zoom_range=0.2 , rescale=1/255 , horizontal_flip=True , vertical_flip=True , validation_split=0.2)"
      ]
    },
    {
      "cell_type": "code",
      "execution_count": null,
      "metadata": {
        "id": "m52mqbo9axAG"
      },
      "outputs": [],
      "source": [
        "test_data_generator = keras.preprocessing.image.ImageDataGenerator(validation_split=0.2  ,  rescale=1/255)"
      ]
    },
    {
      "cell_type": "code",
      "execution_count": null,
      "metadata": {
        "id": "W6lqkCXGaxAH"
      },
      "outputs": [],
      "source": [
        "model = keras.Sequential()"
      ]
    },
    {
      "cell_type": "code",
      "execution_count": null,
      "metadata": {
        "id": "FrGulNdOaxAI"
      },
      "outputs": [],
      "source": [
        "model.add(keras.layers.Conv2D(filters=64, kernel_size=(3,3) , input_shape=(800 , 600 , 3) , activation='relu'))"
      ]
    },
    {
      "cell_type": "code",
      "execution_count": null,
      "metadata": {
        "id": "qoTxAFW4axAJ"
      },
      "outputs": [],
      "source": [
        "model.add(keras.layers.MaxPool2D(pool_size=(2,2)))"
      ]
    },
    {
      "cell_type": "code",
      "execution_count": null,
      "metadata": {
        "id": "sekNDI1MaxAK"
      },
      "outputs": [],
      "source": [
        "model.add(keras.layers.Conv2D(filters=32 , kernel_size=(3,3) , activation='relu'))"
      ]
    },
    {
      "cell_type": "code",
      "execution_count": null,
      "metadata": {
        "id": "YsTSev9DaxAL"
      },
      "outputs": [],
      "source": [
        "model.add(keras.layers.Flatten())"
      ]
    },
    {
      "cell_type": "code",
      "execution_count": null,
      "metadata": {
        "id": "tiikXkviaxAM"
      },
      "outputs": [],
      "source": [
        "model.add(keras.layers.Dense(1, activation='sigmoid'))"
      ]
    },
    {
      "cell_type": "code",
      "execution_count": null,
      "metadata": {
        "id": "bkUnulZaaxAM"
      },
      "outputs": [],
      "source": [
        "model.compile(optimizer='adam' , loss='binary_crossentropy' , metrics=['acc'])"
      ]
    },
    {
      "cell_type": "code",
      "execution_count": null,
      "metadata": {
        "id": "HBNvXgZJq43A"
      },
      "outputs": [],
      "source": [
        "model.summary()"
      ]
    },
    {
      "cell_type": "code",
      "execution_count": null,
      "metadata": {
        "id": "G-cL-NlPaxAN"
      },
      "outputs": [],
      "source": [
        "train_generator = train_data_generator.flow_from_directory(\n",
        "    'drive/MyDrive/data',\n",
        "    subset='training',\n",
        "    target_size=(800 , 600 ),\n",
        "    batch_size=12,\n",
        "    class_mode='binary')"
      ]
    },
    {
      "cell_type": "code",
      "execution_count": null,
      "metadata": {
        "id": "QslrVGQ0axAO"
      },
      "outputs": [],
      "source": [
        "test_generator = test_data_generator.flow_from_directory(\n",
        "    'drive/MyDrive/data',\n",
        "    subset='validation',\n",
        "    target_size=(800, 600 ),\n",
        "    batch_size=12,\n",
        "    class_mode = 'binary'\n",
        ")\n",
        "    "
      ]
    },
    {
      "cell_type": "code",
      "execution_count": null,
      "metadata": {
        "id": "S3iVp3m-axAP"
      },
      "outputs": [],
      "source": [
        "history = model.fit(train_generator , validation_data = test_generator , epochs = 10)"
      ]
    },
    {
      "cell_type": "code",
      "execution_count": null,
      "metadata": {
        "id": "8S8-PYV_85YM"
      },
      "outputs": [],
      "source": [
        "import matplotlib.pyplot as plt"
      ]
    },
    {
      "cell_type": "code",
      "execution_count": null,
      "metadata": {
        "id": "0Ucn77jz87t9"
      },
      "outputs": [],
      "source": [
        "plt.plot(list(range(10)) , history.history['val_loss'])\n",
        "plt.plot(list(range(10)) , history.history['loss'])\n",
        "plt.title(\"Training vs Validation Loss\")\n",
        "plt.legend()\n",
        "plt.savefig('loss_graph.png' , format='png')"
      ]
    },
    {
      "cell_type": "code",
      "execution_count": null,
      "metadata": {
        "id": "-HFuo-MbUtP9"
      },
      "outputs": [],
      "source": [
        "\n",
        "plt.plot(list(range(10)) , history.history['val_acc'])\n",
        "plt.plot(list(range(10)) , history.history['acc'])\n",
        "plt.title('Training vs Validation accuracy')\n",
        "plt.legend()\n",
        "plt.savefig('acc_graph.png' , format='png')"
      ]
    },
    {
      "cell_type": "code",
      "execution_count": null,
      "metadata": {
        "id": "T6_WvSH6AMEA"
      },
      "outputs": [],
      "source": [
        "model.save('model')"
      ]
    }
  ],
  "metadata": {
    "accelerator": "GPU",
    "colab": {
      "name": "Project Review Training.ipynb",
      "provenance": []
    },
    "kernelspec": {
      "display_name": "Python 3",
      "language": "python",
      "name": "python3"
    },
    "language_info": {
      "codemirror_mode": {
        "name": "ipython",
        "version": 3
      },
      "file_extension": ".py",
      "mimetype": "text/x-python",
      "name": "python",
      "nbconvert_exporter": "python",
      "pygments_lexer": "ipython3",
      "version": "3.8.10"
    }
  },
  "nbformat": 4,
  "nbformat_minor": 0
}